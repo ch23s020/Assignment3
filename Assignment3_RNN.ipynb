{
  "nbformat": 4,
  "nbformat_minor": 0,
  "metadata": {
    "colab": {
      "provenance": [],
      "authorship_tag": "ABX9TyNUvHi0V2sppTYBoNktX/RQ",
      "include_colab_link": true
    },
    "kernelspec": {
      "name": "python3",
      "display_name": "Python 3"
    },
    "language_info": {
      "name": "python"
    }
  },
  "cells": [
    {
      "cell_type": "markdown",
      "metadata": {
        "id": "view-in-github",
        "colab_type": "text"
      },
      "source": [
        "<a href=\"https://colab.research.google.com/github/ch23s020/Assignment3/blob/main/Assignment3_RNN.ipynb\" target=\"_parent\"><img src=\"https://colab.research.google.com/assets/colab-badge.svg\" alt=\"Open In Colab\"/></a>"
      ]
    },
    {
      "cell_type": "code",
      "execution_count": 2,
      "metadata": {
        "id": "gju5J-AqPMBq"
      },
      "outputs": [],
      "source": [
        "import torch\n",
        "import torch.nn as nn\n",
        "import torch.optim as optim\n",
        "from torch.utils.data import Dataset, DataLoader\n",
        "from sklearn.model_selection import train_test_split\n",
        "import gdown\n",
        "import random\n",
        "import time\n",
        "import pandas as pd\n",
        "import csv\n"
      ]
    },
    {
      "cell_type": "code",
      "source": [
        "\n",
        "# Define the download URLs for Google Sheets as CSV\n",
        "\n",
        "\n"
      ],
      "metadata": {
        "id": "P5Ak6TBNsM9O"
      },
      "execution_count": null,
      "outputs": []
    },
    {
      "cell_type": "markdown",
      "source": [
        "Data laod and  Pre-Processing"
      ],
      "metadata": {
        "id": "V02Ijr_i51DT"
      }
    },
    {
      "cell_type": "code",
      "source": [
        "# Download dataset from Google Drive\n",
        "\n",
        "train_url = \"https://docs.google.com/spreadsheets/d/11duz5Vbqay5TVn_uyglVQVcEZllTbWQt_8zTt2TcBSA/export?format=csv\"\n",
        "\n",
        "valid_url = \"https://docs.google.com/spreadsheets/d/1KbKFfxFkMddkZde0r5PWKnQ0vzdh-XihxsMP7XUFDJc/export?format=csv\"\n",
        "\n",
        "test_url = \"https://docs.google.com/spreadsheets/d/1ItKDweGPNtzWiF3rs0jzKjh7ZRRkas2hz7yWvbt4yzQ/export?format=csv\"\n",
        "\n",
        "# Paths to save the files\n",
        "\n",
        "train_output = '/content/train_data.csv'\n",
        "\n",
        "valid_output = '/content/valid_data.csv'\n",
        "\n",
        "test_output = '/content/test_data.csv'\n",
        "\n",
        "# Download the files\n",
        "\n",
        "gdown.download(train_url, train_output, quiet=False)\n",
        "\n",
        "gdown.download(valid_url, valid_output, quiet=False)\n",
        "\n",
        "gdown.download(test_url, test_output, quiet=False)\n",
        "\n",
        "\n",
        "# Function to load data\n",
        "\n",
        "def load_data(file_path):\n",
        "\n",
        "    data = []\n",
        "\n",
        "    with open(file_path, 'r', encoding='utf-8') as csvfile:\n",
        "\n",
        "        csvreader = csv.reader(csvfile)\n",
        "\n",
        "        for idx, row in enumerate(csvreader):\n",
        "\n",
        "            if row:  # Check if the row is not empty\n",
        "\n",
        "                data.append(row)\n",
        "\n",
        "    return data\n",
        "\n",
        "# Load the data\n",
        "\n",
        "train_data = load_data(train_output)\n",
        "\n",
        "valid_data = load_data(valid_output)\n",
        "\n",
        "test_data = load_data(test_output)\n",
        "\n",
        "# Print a sample from each dataset to verify\n",
        "\n",
        "print(\"Sample from train data:\", train_data[0])\n",
        "\n",
        "print(\"Sample from valid data:\", valid_data[0])\n",
        "\n",
        "print(\"Sample from test data:\", test_data[0])\n",
        "\n",
        "\n",
        "\n",
        "\n",
        "# Separated the Training, Validation and Test Data files for Marathi English Transliteration.\n",
        "\n",
        "# def load_data(file_path):\n",
        "\n",
        "#     data = []\n",
        "\n",
        "#     with open(file_path, 'r', encoding='utf-8') as csvfile:\n",
        "\n",
        "#         csvreader = csv.reader(csvfile)\n",
        "\n",
        "#         # Trying to remove the Index error while passing the separated csv file.\n",
        "#         for idx, row in enumerate(csvreader):\n",
        "\n",
        "#             try:\n",
        "#                 x = str(row[0])\n",
        "\n",
        "#                 y = str(row[1])\n",
        "\n",
        "#                 data.append((x, y))\n",
        "\n",
        "#             except IndexError:   # To locate the issue\n",
        "\n",
        "#                 print(f\"IndexError in row {idx + 1}: {row}\")\n",
        "#     return data\n",
        "\n",
        "# data = load_data(output)\n",
        "\n",
        "\n",
        "\n",
        "# Data Preparation\n",
        "\n",
        "# class TransliterationDataset(Dataset):\n",
        "\n",
        "#     def __init__(self, data, char2index, max_length=20):\n",
        "\n",
        "#         self.data = data\n",
        "\n",
        "#         self.max_length = max_length\n",
        "\n",
        "#         self.char2index = char2index\n",
        "\n",
        "\n",
        "\n",
        "#     def __len__(self):\n",
        "\n",
        "#         return len(self.data)\n",
        "\n",
        "#     def __getitem__(self, idx):\n",
        "\n",
        "#         x, y = self.data[idx]\n",
        "\n",
        "#         x_indices = [self.char2index[c] for c in x] + [self.char2index['<PAD>']] * (self.max_length - len(x))\n",
        "\n",
        "#         y_indices = [self.char2index[c] for c in y] + [self.char2index['<PAD>']] * (self.max_length - len(y))\n",
        "\n",
        "#         return torch.tensor(x_indices), torch.tensor(y_indices), len(x), len(y)\n",
        "\n",
        "# def collate_fn(batch):\n",
        "\n",
        "#     x, y, x_lengths, y_lengths = zip(*batch)\n",
        "\n",
        "#     x = torch.nn.utils.rnn.pad_sequence(x, batch_first=True, padding_value=char2index['<PAD>'])\n",
        "\n",
        "#     y = torch.nn.utils.rnn.pad_sequence(y, batch_first=True, padding_value=char2index['<PAD>'])\n",
        "\n",
        "#     return x, y\n"
      ],
      "metadata": {
        "colab": {
          "base_uri": "https://localhost:8080/"
        },
        "id": "e4RqmgqT5wxk",
        "outputId": "665c4847-0195-415a-8f4f-8588ae3b05a8"
      },
      "execution_count": 3,
      "outputs": [
        {
          "output_type": "stream",
          "name": "stderr",
          "text": [
            "/usr/local/lib/python3.10/dist-packages/gdown/parse_url.py:48: UserWarning: You specified a Google Drive link that is not the correct link to download a file. You might want to try `--fuzzy` option or the following url: https://drive.google.com/uc?id=None\n",
            "  warnings.warn(\n",
            "Downloading...\n",
            "From: https://docs.google.com/spreadsheets/d/11duz5Vbqay5TVn_uyglVQVcEZllTbWQt_8zTt2TcBSA/export?format=csv\n",
            "To: /content/train_data.csv\n",
            "2.23MB [00:00, 5.76MB/s]\n",
            "Downloading...\n",
            "From: https://docs.google.com/spreadsheets/d/1KbKFfxFkMddkZde0r5PWKnQ0vzdh-XihxsMP7XUFDJc/export?format=csv\n",
            "To: /content/valid_data.csv\n",
            "143kB [00:00, 4.52MB/s]\n",
            "Downloading...\n",
            "From: https://docs.google.com/spreadsheets/d/1ItKDweGPNtzWiF3rs0jzKjh7ZRRkas2hz7yWvbt4yzQ/export?format=csv\n",
            "To: /content/test_data.csv\n",
            "149kB [00:00, 4.11MB/s]\n"
          ]
        },
        {
          "output_type": "stream",
          "name": "stdout",
          "text": [
            "Sample from train data: ['fusharun', 'फुशारुन']\n",
            "Sample from valid data: ['garvyabarobarach', 'गारव्याबरोबरच']\n",
            "Sample from test data: ['heetler', 'हिटलर']\n"
          ]
        }
      ]
    },
    {
      "cell_type": "markdown",
      "source": [
        "RNN\n"
      ],
      "metadata": {
        "id": "IVZ9ScpG7SHB"
      }
    },
    {
      "cell_type": "code",
      "source": [
        "class EncoderRNN(pass):\n",
        "\n",
        "class DecoderRNN(pass):\n",
        "\n",
        "class Seq2Seq(nn.Module):\n",
        "\n"
      ],
      "metadata": {
        "id": "HIYqFOCZ7WDW"
      },
      "execution_count": null,
      "outputs": []
    },
    {
      "cell_type": "markdown",
      "source": [
        "Training\n"
      ],
      "metadata": {
        "id": "Zo2eGG7v7xk0"
      }
    },
    {
      "cell_type": "code",
      "source": [],
      "metadata": {
        "id": "q28FCbJ471Gs"
      },
      "execution_count": null,
      "outputs": []
    }
  ]
}