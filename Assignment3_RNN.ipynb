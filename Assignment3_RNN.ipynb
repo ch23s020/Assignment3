{
  "nbformat": 4,
  "nbformat_minor": 0,
  "metadata": {
    "colab": {
      "provenance": [],
      "authorship_tag": "ABX9TyNtrPSw/50guNcO64fgO4SC",
      "include_colab_link": true
    },
    "kernelspec": {
      "name": "python3",
      "display_name": "Python 3"
    },
    "language_info": {
      "name": "python"
    }
  },
  "cells": [
    {
      "cell_type": "markdown",
      "metadata": {
        "id": "view-in-github",
        "colab_type": "text"
      },
      "source": [
        "<a href=\"https://colab.research.google.com/github/ch23s020/Assignment3/blob/main/Assignment3_RNN.ipynb\" target=\"_parent\"><img src=\"https://colab.research.google.com/assets/colab-badge.svg\" alt=\"Open In Colab\"/></a>"
      ]
    },
    {
      "cell_type": "code",
      "execution_count": null,
      "metadata": {
        "id": "gju5J-AqPMBq"
      },
      "outputs": [],
      "source": [
        "import torch\n",
        "import torch.nn as nn\n",
        "import torch.optim as optim\n",
        "from torch.utils.data import Dataset, DataLoader\n",
        "from sklearn.model_selection import train_test_split\n",
        "import gdown\n",
        "import random\n",
        "import time\n",
        "import pandas as pd\n",
        "import csv"
      ]
    },
    {
      "cell_type": "markdown",
      "source": [
        "Data laod and  Pre-Processing"
      ],
      "metadata": {
        "id": "V02Ijr_i51DT"
      }
    },
    {
      "cell_type": "code",
      "source": [
        "# Download dataset from Google Drive\n",
        "\n",
        "url = 'https://drive.google.com/uc?id=1A3M8MiTtdCPQlfAgJBOpZlG5QOX8b7Tz'\n",
        "\n",
        "output = '/content/transliteration_data.csv'\n",
        "\n",
        "gdown.download(url, output, quiet=False)\n",
        "\n",
        "\n",
        "# Load and preprocess dataset from CSV file\n",
        "# Separated the Training, Validation and Test Data for Marathi.\n",
        "\n",
        "def load_data(file_path):\n",
        "\n",
        "    data = []\n",
        "\n",
        "    with open(file_path, 'r', encoding='utf-8') as csvfile:\n",
        "\n",
        "        csvreader = csv.reader(csvfile)\n",
        "\n",
        "        # Trying to remove the Index error while passing the separated csv file.\n",
        "        for idx, row in enumerate(csvreader):\n",
        "\n",
        "            try:\n",
        "                x = str(row[0])\n",
        "\n",
        "                y = str(row[1])\n",
        "\n",
        "                data.append((x, y))\n",
        "\n",
        "            except IndexError:   # To locate the issue\n",
        "\n",
        "                print(f\"IndexError in row {idx + 1}: {row}\")\n",
        "    return data\n",
        "\n",
        "data = load_data(output)\n",
        "\n",
        "\n",
        "\n",
        "# Data Preparation\n",
        "\n",
        "class TransliterationDataset(Dataset):\n",
        "\n",
        "    def __init__(self, data, char2index, max_length=20):\n",
        "\n",
        "        self.data = data\n",
        "\n",
        "        self.max_length = max_length\n",
        "\n",
        "        self.char2index = char2index\n",
        "\n",
        "\n",
        "\n",
        "    def __len__(self):\n",
        "\n",
        "        return len(self.data)\n",
        "\n",
        "    def __getitem__(self, idx):\n",
        "\n",
        "        x, y = self.data[idx]\n",
        "\n",
        "        x_indices = [self.char2index[c] for c in x] + [self.char2index['<PAD>']] * (self.max_length - len(x))\n",
        "\n",
        "        y_indices = [self.char2index[c] for c in y] + [self.char2index['<PAD>']] * (self.max_length - len(y))\n",
        "\n",
        "        return torch.tensor(x_indices), torch.tensor(y_indices), len(x), len(y)\n",
        "\n",
        "def collate_fn(batch):\n",
        "\n",
        "    x, y, x_lengths, y_lengths = zip(*batch)\n",
        "\n",
        "    x = torch.nn.utils.rnn.pad_sequence(x, batch_first=True, padding_value=char2index['<PAD>'])\n",
        "\n",
        "    y = torch.nn.utils.rnn.pad_sequence(y, batch_first=True, padding_value=char2index['<PAD>'])\n",
        "\n",
        "    return x, y\n"
      ],
      "metadata": {
        "id": "e4RqmgqT5wxk"
      },
      "execution_count": null,
      "outputs": []
    },
    {
      "cell_type": "markdown",
      "source": [
        "RNN\n"
      ],
      "metadata": {
        "id": "IVZ9ScpG7SHB"
      }
    },
    {
      "cell_type": "code",
      "source": [
        "class EncoderRNN(pass):\n",
        "\n",
        "class DecoderRNN(pass):\n",
        "\n",
        "class Seq2Seq(nn.Module):\n",
        "\n"
      ],
      "metadata": {
        "id": "HIYqFOCZ7WDW"
      },
      "execution_count": null,
      "outputs": []
    },
    {
      "cell_type": "markdown",
      "source": [
        "Training\n"
      ],
      "metadata": {
        "id": "Zo2eGG7v7xk0"
      }
    },
    {
      "cell_type": "code",
      "source": [],
      "metadata": {
        "id": "q28FCbJ471Gs"
      },
      "execution_count": null,
      "outputs": []
    }
  ]
}